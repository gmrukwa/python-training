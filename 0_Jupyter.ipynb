{
 "cells": [
  {
   "cell_type": "markdown",
   "metadata": {},
   "source": [
    "# What is Jupyter?\n",
    "\n",
    "It is a tool that allows you to run Python code interactively in the browser and combine it with comments and visualizations on-the-go. It is very popular for playing with some code and prototyping some machine learning solutions.\n",
    "\n",
    "You can find more [here](http://jupyter.org/).\n",
    "\n",
    "# How to not click too much?\n",
    "\n",
    "Handy keys combinations are listed in `Help` -> `Keyboard shortcuts`.\n",
    "\n",
    "# Let's try...\n",
    "\n",
    "Just click the cell below and execute it. You can do it by clicking `Ctrl` + `Enter` or just by clicking `Run` in the bar at the top."
   ]
  },
  {
   "cell_type": "code",
   "execution_count": null,
   "metadata": {},
   "outputs": [],
   "source": [
    "print('Hello world!')"
   ]
  },
  {
   "cell_type": "markdown",
   "metadata": {},
   "source": [
    "Jupyter will print the value at the end of the cell, if it is not getting assigned to any variable. Therefore this will print *Hello world!*"
   ]
  },
  {
   "cell_type": "code",
   "execution_count": null,
   "metadata": {},
   "outputs": [],
   "source": [
    "'Hello world!'"
   ]
  },
  {
   "cell_type": "markdown",
   "metadata": {},
   "source": [
    "while this only assigns it silently"
   ]
  },
  {
   "cell_type": "code",
   "execution_count": null,
   "metadata": {},
   "outputs": [],
   "source": [
    "hello = 'Hello world!'"
   ]
  }
 ],
 "metadata": {
  "kernelspec": {
   "display_name": "Python 3",
   "language": "python",
   "name": "python3"
  },
  "language_info": {
   "codemirror_mode": {
    "name": "ipython",
    "version": 3
   },
   "file_extension": ".py",
   "mimetype": "text/x-python",
   "name": "python",
   "nbconvert_exporter": "python",
   "pygments_lexer": "ipython3",
   "version": "3.6.5"
  }
 },
 "nbformat": 4,
 "nbformat_minor": 2
}
