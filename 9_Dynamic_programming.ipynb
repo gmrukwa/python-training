{
 "cells": [
  {
   "cell_type": "markdown",
   "metadata": {},
   "source": [
    "# Dynamic programming\n",
    "\n",
    "Several problems can benefit from dynamic programming approach; it breaks a complex problem into smaller subproblems, that are solved separately, with their results stored in memory (*memoized*). An already solved subproblem needn’t be solved again; one may take the pre-computed solution immediately."
   ]
  },
  {
   "cell_type": "markdown",
   "metadata": {},
   "source": [
    "## Memoization"
   ]
  },
  {
   "cell_type": "markdown",
   "metadata": {},
   "source": [
    "Python provides a least recently used (LRU) cache decorator in [`functools.lru_cache`](https://docs.python.org/3/library/functools.html#functools.lru_cache) that can be applied to functions. It is also possible to inspect cache hit/miss counts with `cached_func.cache_info()`.\n",
    "\n",
    "Consider a rough memoized implementation of factorial function."
   ]
  },
  {
   "cell_type": "code",
   "execution_count": null,
   "metadata": {},
   "outputs": [],
   "source": [
    "from functools import lru_cache\n",
    "\n",
    "@lru_cache()\n",
    "def factorial(n):\n",
    "    if n < 2:\n",
    "        return 1\n",
    "    else:\n",
    "        return n * factorial(n - 1)\n",
    "\n",
    "factorial(5)\n",
    "\n",
    "print(factorial.cache_info())\n",
    "\n",
    "factorial(3)\n",
    "\n",
    "print(factorial.cache_info())"
   ]
  },
  {
   "cell_type": "markdown",
   "metadata": {},
   "source": [
    "Notice how the `factorial(3)` call hits an existing solution in the LRU cache."
   ]
  },
  {
   "cell_type": "markdown",
   "metadata": {},
   "source": [
    "## Exercise"
   ]
  },
  {
   "cell_type": "markdown",
   "metadata": {},
   "source": [
    "Going back to the example of Fibonacci number generator, implement it as a recursive function with unlimited LRU cache.\n",
    "\n",
    "By default, LRU cache will be of size 128. It is possible to disable restriction on element count; please consult [the documentation](https://docs.python.org/3/library/functools.html#functools.lru_cache), how to do this."
   ]
  },
  {
   "cell_type": "code",
   "execution_count": null,
   "metadata": {},
   "outputs": [],
   "source": [
    "# @ ...\n",
    "def fib(n):\n",
    "    if # ...\n",
    "        return # ...\n",
    "    else:\n",
    "        return # ...\n",
    "\n",
    "# --- Tests ---\n",
    "\n",
    "# take first 5 values: fib(1), fib(2), etc.\n",
    "result = [fib(n) for n in range(1, 6)]\n",
    "\n",
    "# compare with expected values\n",
    "assert result == [1, 1, 2, 3, 5], 'Actual result: {}'.format(result)\n",
    "\n",
    "# check disabled cache bounds\n",
    "assert fib.cache_info().maxsize is None, 'Actual cache info: {}'.format(fib.cache_info())\n",
    "\n",
    "# check existing cache size\n",
    "assert fib.cache_info().currsize == 6, 'Actual cache info: {}'.format(fib.cache_info())\n",
    "\n",
    "print('OK')"
   ]
  }
 ],
 "metadata": {
  "kernelspec": {
   "display_name": "Python 3",
   "language": "python",
   "name": "python3"
  },
  "language_info": {
   "codemirror_mode": {
    "name": "ipython",
    "version": 3
   },
   "file_extension": ".py",
   "mimetype": "text/x-python",
   "name": "python",
   "nbconvert_exporter": "python",
   "pygments_lexer": "ipython3",
   "version": "3.6.5"
  }
 },
 "nbformat": 4,
 "nbformat_minor": 2
}
