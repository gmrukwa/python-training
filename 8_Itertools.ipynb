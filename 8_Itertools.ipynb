{
 "cells": [
  {
   "cell_type": "markdown",
   "metadata": {},
   "source": [
    "# Itertools\n",
    "\n",
    "`itertools` module provides several building blocks for operation on iterators."
   ]
  },
  {
   "cell_type": "code",
   "execution_count": null,
   "metadata": {},
   "outputs": [],
   "source": [
    "from itertools import *"
   ]
  },
  {
   "cell_type": "markdown",
   "metadata": {},
   "source": [
    "## Slicing"
   ]
  },
  {
   "cell_type": "markdown",
   "metadata": {},
   "source": [
    "Suppose an infinite iterator `count`, that produces natural numbers, is used but only `n = 5` starting elements are needed; `islice` comes to the rescue."
   ]
  },
  {
   "cell_type": "code",
   "execution_count": null,
   "metadata": {},
   "outputs": [],
   "source": [
    "for x in islice(count(), 5):\n",
    "    print(x)"
   ]
  },
  {
   "cell_type": "markdown",
   "metadata": {},
   "source": [
    "## Chaining\n",
    "\n",
    "One can combine elements of several iterables by exhausting them one-by-one."
   ]
  },
  {
   "cell_type": "code",
   "execution_count": null,
   "metadata": {},
   "outputs": [],
   "source": [
    "for x in chain(range(2), range(3), range(2)):\n",
    "    print(x)"
   ]
  },
  {
   "cell_type": "markdown",
   "metadata": {},
   "source": [
    "## Starmap, or map with tuple unpacking\n",
    "\n",
    "With normal `map`, it is possible to transform each element of an iterable, e.g. square all elements. However, a single argument is always passed to the mapping function.\n",
    "\n",
    "Suppose there already is an iterable of *tuples* and the mapping function accepts several arguments. `starmap` unpacks tuples into function arguments directly, removing the need of manual `func(*arg)` unpacking.\n",
    "\n",
    "For a concrete example, one can use `starmap` to apply the power function `pow(a, b) = a**b` to the iterable."
   ]
  },
  {
   "cell_type": "code",
   "execution_count": null,
   "metadata": {},
   "outputs": [],
   "source": [
    "from math import pow\n",
    "\n",
    "for result in starmap(pow, [(2, 3), (3, 2), (9, 0.5)]):\n",
    "    print(result)"
   ]
  },
  {
   "cell_type": "markdown",
   "metadata": {},
   "source": [
    "## Cycling\n",
    "\n",
    "`cycle` can be used to exhaust an iterator unlimited number of times. Watch out for memory usage with long iterators, as elements of the iterator are stored for repeated access."
   ]
  },
  {
   "cell_type": "code",
   "execution_count": null,
   "metadata": {},
   "outputs": [],
   "source": [
    "for x in islice(cycle('ABC'), 5):\n",
    "    print(x)"
   ]
  },
  {
   "cell_type": "markdown",
   "metadata": {},
   "source": [
    "## Repeating a value\n",
    "\n",
    "`repeat` can be used to produce a given value several or indefinite number of times."
   ]
  },
  {
   "cell_type": "code",
   "execution_count": null,
   "metadata": {},
   "outputs": [],
   "source": [
    "for x in repeat('Z', 3):   # finite\n",
    "    print(x)"
   ]
  },
  {
   "cell_type": "code",
   "execution_count": null,
   "metadata": {},
   "outputs": [],
   "source": [
    "for x in islice(repeat('Z'), 3):   # infinite\n",
    "    print(x)"
   ]
  },
  {
   "cell_type": "markdown",
   "metadata": {},
   "source": [
    "Sometimes used in comparison with `zip`."
   ]
  },
  {
   "cell_type": "markdown",
   "metadata": {},
   "source": [
    "## Cartesian product\n",
    "\n",
    "Generate Cartesian product of input iterables with `product`."
   ]
  },
  {
   "cell_type": "code",
   "execution_count": null,
   "metadata": {},
   "outputs": [],
   "source": [
    "for prod in product('ABC', 'xy'):\n",
    "    print(*prod)"
   ]
  },
  {
   "cell_type": "markdown",
   "metadata": {},
   "source": [
    "## `r`-length combinations\n",
    "\n",
    "`combinations` produces all combinations of specified length from input iterable."
   ]
  },
  {
   "cell_type": "code",
   "execution_count": null,
   "metadata": {},
   "outputs": [],
   "source": [
    "for comb in combinations('ABCD', 2):\n",
    "    print(*comb)"
   ]
  },
  {
   "cell_type": "markdown",
   "metadata": {},
   "source": [
    "## `r`-length permutations\n",
    "\n",
    "`permutations` produces all permutations of specified length."
   ]
  },
  {
   "cell_type": "code",
   "execution_count": null,
   "metadata": {},
   "outputs": [],
   "source": [
    "for perm in permutations('ABCD', 2):\n",
    "    print(*perm)"
   ]
  }
 ],
 "metadata": {
  "kernelspec": {
   "display_name": "Python 3",
   "language": "python",
   "name": "python3"
  },
  "language_info": {
   "codemirror_mode": {
    "name": "ipython",
    "version": 3
   },
   "file_extension": ".py",
   "mimetype": "text/x-python",
   "name": "python",
   "nbconvert_exporter": "python",
   "pygments_lexer": "ipython3",
   "version": "3.6.5"
  }
 },
 "nbformat": 4,
 "nbformat_minor": 2
}
