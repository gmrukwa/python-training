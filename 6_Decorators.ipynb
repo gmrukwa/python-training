{
 "cells": [
  {
   "cell_type": "markdown",
   "metadata": {},
   "source": [
    "# Decorators\n",
    "\n",
    "## Decorator pattern\n",
    "\n",
    "A **decorator** is a *function* that allows one to *decorate*, i.e. run custom code *around* an existing function, passed in as a decorator’s parameter."
   ]
  },
  {
   "cell_type": "code",
   "execution_count": null,
   "metadata": {},
   "outputs": [],
   "source": [
    "def inspect(f):\n",
    "    \"\"\"Decorates a function to report its input parameters.\"\"\"\n",
    "    def with_inspection(*args, **kwargs):\n",
    "        print(\"Called with args:\", args, \"and keyword args:\", kwargs)\n",
    "        return f(*args, **kwargs)\n",
    "    return with_inspection"
   ]
  },
  {
   "cell_type": "markdown",
   "metadata": {},
   "source": [
    "Suppose there is a function that simply adds its two parameters."
   ]
  },
  {
   "cell_type": "code",
   "execution_count": null,
   "metadata": {},
   "outputs": [],
   "source": [
    "def add(num, to=0):\n",
    "    \"\"\"Returns the result of to + num operation.\"\"\"\n",
    "    return to + num\n",
    "\n",
    "print(\"Without decorator:\", add(2, to=3))"
   ]
  },
  {
   "cell_type": "markdown",
   "metadata": {},
   "source": [
    "Now, one can apply the previously declared decorator to the function and see how it works."
   ]
  },
  {
   "cell_type": "code",
   "execution_count": null,
   "metadata": {},
   "outputs": [],
   "source": [
    "inspected_add = inspect(add)\n",
    "\n",
    "print(\"With decorator:\", inspected_add(2, to=3))"
   ]
  },
  {
   "cell_type": "markdown",
   "metadata": {},
   "source": [
    "It is also possible to completely replace the original function."
   ]
  },
  {
   "cell_type": "code",
   "execution_count": null,
   "metadata": {},
   "outputs": [],
   "source": [
    "def neg(x):\n",
    "    return -x\n",
    "\n",
    "neg = inspect(neg)\n",
    "\n",
    "neg(3)"
   ]
  },
  {
   "cell_type": "markdown",
   "metadata": {},
   "source": [
    "Replacing one function with another is such a common operation in Python that a special short-hand notation was introduced for this purpose."
   ]
  },
  {
   "cell_type": "code",
   "execution_count": null,
   "metadata": {},
   "outputs": [],
   "source": [
    "@inspect\n",
    "def abs(x):\n",
    "    return -x if x < 0 else x\n",
    "\n",
    "abs(-5)"
   ]
  },
  {
   "cell_type": "markdown",
   "metadata": {},
   "source": [
    "## One-shot side effects"
   ]
  },
  {
   "cell_type": "markdown",
   "metadata": {},
   "source": [
    "It is also possible to return the *original function* from within the decorator – unchanged."
   ]
  },
  {
   "cell_type": "code",
   "execution_count": null,
   "metadata": {},
   "outputs": [],
   "source": [
    "registered_functions = {}\n",
    "\n",
    "def registered(f):\n",
    "    registered_functions[f.__name__] = f\n",
    "    return f\n",
    "\n",
    "@registered\n",
    "def abs(x):\n",
    "    return -x if x < 0 else x\n",
    "\n",
    "@registered\n",
    "def neg(x):\n",
    "    return -x\n",
    "\n",
    "print(registered_functions)"
   ]
  },
  {
   "cell_type": "markdown",
   "metadata": {},
   "source": [
    "Since the decorator function `registered` is called exactly *once*, one can program a one-shot side effect to happen. This comes handly e.g. for function registration, as shown above."
   ]
  },
  {
   "cell_type": "markdown",
   "metadata": {},
   "source": [
    "## Missing docstrings and `@wraps`"
   ]
  },
  {
   "cell_type": "markdown",
   "metadata": {},
   "source": [
    "Suppose that one needs to consult the documentation of the following function."
   ]
  },
  {
   "cell_type": "code",
   "execution_count": null,
   "metadata": {},
   "outputs": [],
   "source": [
    "def neg(x):\n",
    "    \"\"\"Negates input parameter and returns the result.\"\"\"\n",
    "    return -x\n",
    "\n",
    "help(neg)"
   ]
  },
  {
   "cell_type": "markdown",
   "metadata": {},
   "source": [
    "The result should be of no surprise to the reader. However, consider what happens if the function is decorated."
   ]
  },
  {
   "cell_type": "code",
   "execution_count": null,
   "metadata": {},
   "outputs": [],
   "source": [
    "@inspect\n",
    "def neg(x):\n",
    "    \"\"\"Negates input parameter and returns the result.\"\"\"\n",
    "    return -x\n",
    "\n",
    "help(neg)"
   ]
  },
  {
   "cell_type": "markdown",
   "metadata": {},
   "source": [
    "The original docstring is *lost*, since the function got replaced, and the (empty) docstring of `with_inspection` function is used instead.\n",
    "\n",
    "To fix the problem, `functools.wraps` decorator should be used for the inner function."
   ]
  },
  {
   "cell_type": "code",
   "execution_count": null,
   "metadata": {},
   "outputs": [],
   "source": [
    "from functools import wraps\n",
    "\n",
    "def inspect(f):\n",
    "    \"\"\"Decorates a function to report its input parameters.\"\"\"\n",
    "    @wraps(f)   # <---\n",
    "    def with_inspection(*args, **kwargs):\n",
    "        print(\"Called with args:\", args, \"and keyword args:\", kwargs)\n",
    "        return f(*args, **kwargs)\n",
    "    return with_inspection"
   ]
  },
  {
   "cell_type": "markdown",
   "metadata": {},
   "source": [
    "Now the original docstring, as well as the function name, is preserved properly."
   ]
  },
  {
   "cell_type": "code",
   "execution_count": null,
   "metadata": {},
   "outputs": [],
   "source": [
    "@inspect\n",
    "def neg(x):\n",
    "    \"\"\"Negates input parameter and returns the result.\"\"\"\n",
    "    return -x\n",
    "\n",
    "help(neg)\n",
    "\n",
    "neg(-3)"
   ]
  },
  {
   "cell_type": "markdown",
   "metadata": {},
   "source": [
    "## Decorators with parameters \\*"
   ]
  },
  {
   "cell_type": "markdown",
   "metadata": {},
   "source": [
    "Suppose a `multiply` decorator is needed to post-process the original output, i.e. to return `factor * f(x)`.\n",
    "\n",
    "Since the decorator function accepts a *function* as its sole parameter, another level of indirection is needed to handle the multiplication factor.  "
   ]
  },
  {
   "cell_type": "code",
   "execution_count": null,
   "metadata": {},
   "outputs": [],
   "source": [
    "from functools import wraps\n",
    "\n",
    "def multiply(factor):\n",
    "    def multiply_decorator(f):\n",
    "        @wraps(f)\n",
    "        def wrapper(*args, **kwargs):\n",
    "            return factor * f(*args, **kwargs)\n",
    "        return wrapper\n",
    "    return multiply_decorator\n",
    "\n",
    "@multiply(2)\n",
    "def f(x):\n",
    "    return x + 3\n",
    "\n",
    "f(5)"
   ]
  },
  {
   "cell_type": "markdown",
   "metadata": {},
   "source": [
    "The code can be decomposed into 2 distinct steps:\n",
    "* Outer function `multiply` can be seen as a *factory* of decorators; it produces here an anonymous `multiply_by_two` decorator from `multiply_decorator` function.\n",
    "* The produced decorator replaces the original function `f` with its `wrapper` function; the wrapper modifies original output."
   ]
  },
  {
   "cell_type": "markdown",
   "metadata": {},
   "source": [
    "## Exercise"
   ]
  },
  {
   "cell_type": "markdown",
   "metadata": {},
   "source": [
    "Modify the `inspect` decorator to report on the *return value* of original function, in addition to its input parameters."
   ]
  },
  {
   "cell_type": "code",
   "execution_count": null,
   "metadata": {},
   "outputs": [],
   "source": [
    "from functools import wraps\n",
    "\n",
    "def inspect(f):\n",
    "    \"\"\"Decorates a function to report on its input and output parameters.\"\"\"\n",
    "    @wraps(f)\n",
    "    def with_inspection(*args, **kwargs):\n",
    "        print(\"Called with args:\", args, \"and keyword args:\", kwargs)\n",
    "        # f(*args, **kwargs)\n",
    "        return\n",
    "    return with_inspection\n",
    "\n",
    "@inspect\n",
    "def neg(x):\n",
    "    \"\"\"Negates input parameter and returns the result.\"\"\"\n",
    "    return -x\n",
    "\n",
    "neg(-3)"
   ]
  }
 ],
 "metadata": {
  "kernelspec": {
   "display_name": "Python 3",
   "language": "python",
   "name": "python3"
  },
  "language_info": {
   "codemirror_mode": {
    "name": "ipython",
    "version": 3
   },
   "file_extension": ".py",
   "mimetype": "text/x-python",
   "name": "python",
   "nbconvert_exporter": "python",
   "pygments_lexer": "ipython3",
   "version": "3.6.5"
  }
 },
 "nbformat": 4,
 "nbformat_minor": 2
}
