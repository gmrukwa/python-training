{
 "cells": [
  {
   "cell_type": "markdown",
   "metadata": {},
   "source": [
    "# Iterables\n",
    "\n",
    "This module is based on the [excelent article](http://nvie.com/posts/iterators-vs-generators/) by nvie."
   ]
  },
  {
   "cell_type": "markdown",
   "metadata": {},
   "source": [
    "## Containers\n",
    "\n",
    "Let’s recapitulate; *containers (collections)* are lists, dictionaries, sets etc. and live in memory.\n",
    "\n",
    "They support *membership* tests."
   ]
  },
  {
   "cell_type": "code",
   "execution_count": null,
   "metadata": {},
   "outputs": [],
   "source": [
    "4 in [1, 2, 3]"
   ]
  },
  {
   "cell_type": "markdown",
   "metadata": {},
   "source": [
    "Containers can be produced by list/dict/set *comprehensions*; here we calculate `x mod 3, 0 <= x < 5`."
   ]
  },
  {
   "cell_type": "code",
   "execution_count": null,
   "metadata": {},
   "outputs": [],
   "source": [
    "[x % 3 for x in range(5)]"
   ]
  },
  {
   "cell_type": "code",
   "execution_count": null,
   "metadata": {},
   "outputs": [],
   "source": [
    "{x: x % 3 for x in range(5)}"
   ]
  },
  {
   "cell_type": "code",
   "execution_count": null,
   "metadata": {},
   "outputs": [],
   "source": [
    "{x % 3 for x in range(5)}"
   ]
  },
  {
   "cell_type": "markdown",
   "metadata": {},
   "source": [
    "## Iterables\n",
    "\n",
    "An *iterable* provides a way to produce all elements it contains. While this applies to finite containers, it also holds true for *infinite* data sources, like sockets or open file handles.\n",
    "\n",
    "One can access an iterable through an *iterator*, which is a stateful object around the *iterable* that produces consequent values."
   ]
  },
  {
   "cell_type": "code",
   "execution_count": null,
   "metadata": {},
   "outputs": [],
   "source": [
    "message = 'test'\n",
    "\n",
    "it = iter(message)\n",
    "\n",
    "for _ in range(4):\n",
    "    print(next(it))\n",
    "    \n",
    "# _ is a conventional name for `dummy' variable"
   ]
  },
  {
   "cell_type": "markdown",
   "metadata": {},
   "source": [
    "Now, `it` iterator is exhausted, i.e. all elements were already read. What happens if `next` is called at this point?"
   ]
  },
  {
   "cell_type": "code",
   "execution_count": null,
   "metadata": {},
   "outputs": [],
   "source": [
    "next(it)"
   ]
  },
  {
   "cell_type": "markdown",
   "metadata": {},
   "source": [
    "Calling `next` on depleted iterator raises a `StopIteration` exception.\n",
    "\n",
    "In fact, this is how the `for` loop works; it takes an *iterable* and implicitly performs `iter` and `next` calls on it until a `StopIteration` exception is encountered."
   ]
  },
  {
   "cell_type": "code",
   "execution_count": null,
   "metadata": {},
   "outputs": [],
   "source": [
    "message = 'test'\n",
    "\n",
    "for char in message:\n",
    "    print(char)"
   ]
  },
  {
   "cell_type": "markdown",
   "metadata": {},
   "source": [
    "## Iterators\n",
    "\n",
    "An *iterator* is a *value factory* around an iterable. In fact, iterators are stateful objects which implement a `__next__` method.\n",
    "\n",
    "Consider an iterator producing natural numbers (assuming they start from 1); this iterator is *infinite*."
   ]
  },
  {
   "cell_type": "code",
   "execution_count": null,
   "metadata": {},
   "outputs": [],
   "source": [
    "class natural:\n",
    "    def __init__(self):\n",
    "        self.value = 0\n",
    "    \n",
    "    def __iter__(self):   # called by iter()\n",
    "        return self\n",
    "    \n",
    "    def __next__(self):   # called by next()\n",
    "        result = self.value + 1\n",
    "        self.value = result\n",
    "        return result\n",
    "\n",
    "n = natural()\n",
    "\n",
    "[next(n) for _ in range(3)]"
   ]
  },
  {
   "cell_type": "markdown",
   "metadata": {},
   "source": [
    "## Generators\n",
    "\n",
    "A *generator* is a *function* (precisely, a callable) that can return *several times*. All generators are *iterators* as well.\n",
    "\n",
    "Consider following example of natural number generator."
   ]
  },
  {
   "cell_type": "code",
   "execution_count": null,
   "metadata": {},
   "outputs": [],
   "source": [
    "def natural():\n",
    "    value = 0\n",
    "    while True:\n",
    "        value += 1\n",
    "        yield value\n",
    "\n",
    "n = natural()\n",
    "\n",
    "[next(n) for _ in range(3)]"
   ]
  },
  {
   "cell_type": "markdown",
   "metadata": {},
   "source": [
    "Notice how this function uses the `yield` keyword instead of `return` to generate a value. A generator function `requires` at least one `yield` keyword to be present; otherwise it is a normal function.\n",
    "\n",
    "It is also possible to have a finite generator; as soon as the function `return`s (or simply ends), a `StopIteration` exception is raised."
   ]
  },
  {
   "cell_type": "code",
   "execution_count": null,
   "metadata": {},
   "outputs": [],
   "source": [
    "def finite():\n",
    "    for i in range(3):\n",
    "        yield i\n",
    "\n",
    "f = finite()\n",
    "\n",
    "[next(f) for _ in range(5)]"
   ]
  },
  {
   "cell_type": "markdown",
   "metadata": {},
   "source": [
    "## Exercise"
   ]
  },
  {
   "cell_type": "markdown",
   "metadata": {},
   "source": [
    "Write a Fibonacci numbers generator."
   ]
  },
  {
   "cell_type": "code",
   "execution_count": null,
   "metadata": {},
   "outputs": [],
   "source": [
    "def fib():\n",
    "    # ...\n",
    "    while True:\n",
    "        # ...\n",
    "        yield # ...\n",
    "\n",
    "# --- Tests ---\n",
    "\n",
    "# make an iterator\n",
    "f = fib()\n",
    "\n",
    "# take first 5 values\n",
    "result = [next(f) for _ in range(5)]\n",
    "\n",
    "# compare with expected values\n",
    "assert result == [1, 1, 2, 3, 5], 'Actual result: %s' % result"
   ]
  }
 ],
 "metadata": {
  "kernelspec": {
   "display_name": "Python 3",
   "language": "python",
   "name": "python3"
  },
  "language_info": {
   "codemirror_mode": {
    "name": "ipython",
    "version": 3
   },
   "file_extension": ".py",
   "mimetype": "text/x-python",
   "name": "python",
   "nbconvert_exporter": "python",
   "pygments_lexer": "ipython3",
   "version": "3.6.5"
  }
 },
 "nbformat": 4,
 "nbformat_minor": 2
}
